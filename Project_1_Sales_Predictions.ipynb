{
  "nbformat": 4,
  "nbformat_minor": 0,
  "metadata": {
    "colab": {
      "provenance": [],
      "authorship_tag": "ABX9TyNAaawr6dCHO6wgXOh1MKac",
      "include_colab_link": true
    },
    "kernelspec": {
      "name": "python3",
      "display_name": "Python 3"
    },
    "language_info": {
      "name": "python"
    }
  },
  "cells": [
    {
      "cell_type": "markdown",
      "metadata": {
        "id": "view-in-github",
        "colab_type": "text"
      },
      "source": [
        "<a href=\"https://colab.research.google.com/github/pmontecinos23/Sales-Predictions/blob/main/Project_1_Sales_Predictions.ipynb\" target=\"_parent\"><img src=\"https://colab.research.google.com/assets/colab-badge.svg\" alt=\"Open In Colab\"/></a>"
      ]
    },
    {
      "cell_type": "markdown",
      "source": [
        "#Project 1 - Part 1\n",
        "Paul Montecinos"
      ],
      "metadata": {
        "id": "nLgP7nJBfjaD"
      }
    },
    {
      "cell_type": "code",
      "execution_count": null,
      "metadata": {
        "id": "51fChnCBfJsM"
      },
      "outputs": [],
      "source": []
    },
    {
      "cell_type": "markdown",
      "source": [
        "## Loading Data"
      ],
      "metadata": {
        "id": "_UUOKI8Jfr_t"
      }
    },
    {
      "cell_type": "code",
      "source": [],
      "metadata": {
        "id": "iPdKY-PAfuRJ"
      },
      "execution_count": null,
      "outputs": []
    },
    {
      "cell_type": "markdown",
      "source": [
        "##Data Cleaning"
      ],
      "metadata": {
        "id": "PTiOIeOQfujh"
      }
    },
    {
      "cell_type": "code",
      "source": [],
      "metadata": {
        "id": "YKRHxv6Afxh8"
      },
      "execution_count": null,
      "outputs": []
    },
    {
      "cell_type": "markdown",
      "source": [
        "## Exploratory Visuals"
      ],
      "metadata": {
        "id": "eVxNa84Mfx3p"
      }
    },
    {
      "cell_type": "code",
      "source": [],
      "metadata": {
        "id": "SSNGLZ7cf4OX"
      },
      "execution_count": null,
      "outputs": []
    },
    {
      "cell_type": "markdown",
      "source": [
        "##Explanatory Visuals"
      ],
      "metadata": {
        "id": "D_LzGqv1f4kf"
      }
    },
    {
      "cell_type": "code",
      "source": [],
      "metadata": {
        "id": "amaeoomDf9LO"
      },
      "execution_count": null,
      "outputs": []
    }
  ]
}